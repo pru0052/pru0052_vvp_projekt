{
 "cells": [
  {
   "attachments": {},
   "cell_type": "markdown",
   "metadata": {},
   "source": [
    "<h1>Projekt: Simulace pohybů planet ve 2D</h1>\n",
    "<h3>Marek Prudil (pru0052)</h3>\n",
    "\n",
    "<h3>Popis:</h3>\n",
    "Tento projekt se zabývá simulací pohybu planet (těles) ve 2D prostoru.\n",
    "Uvažujeme gravitační interakce mezi každou dvojicí těles v podobě\n",
    "Newtonova gravitačního zákona\n",
    "$F_{g}=G\\frac{m_{1}m_{2}}{r^{2}}$\n",
    "kde $G=6.674\\cdot10^{-11}\\left[m^{3}kg^{-1}s^{-2}\\right]$je gravitační\n",
    "konstanta, $m_{1},m_{2}$ jsou váhy těles a $r$ je vzdálenost mezi nimi.\n",
    "$F_{g}$ je velikost síly působící mezi dvojicí těles, směr síly je vždy\n",
    "k druhému tělesu.\n",
    "\n",
    "Cílem je implementovat numerickou aproximaci řešení pohybových rovnic\n",
    "planet a vytvoření vizualizace tohoto pohybu. Pro simulaci bude použita\n",
    "časová diskretizace, přičemž v každém časovém kroku je uvažováno\n",
    "konstantní zrychlení $a=\\frac{F_{g}}{m}$ způsobené gravitační silou\n",
    "mezi každou dvojicí planet. $a$ je opět pouze velikost zrychlení, směr\n",
    "je stejný jako směr síly.\n",
    "\n",
    "Výstupem projektu bude vizualizace pohybu pomocí knihovny Matplotlib,\n",
    "která zobrazuje pohyb planet v čase a zobrazuje jejich trajektorie."
   ]
  },
  {
   "cell_type": "code",
   "execution_count": 1,
   "metadata": {},
   "outputs": [],
   "source": [
    "import numpy as np"
   ]
  },
  {
   "cell_type": "code",
   "execution_count": null,
   "metadata": {},
   "outputs": [],
   "source": []
  }
 ],
 "metadata": {
  "kernelspec": {
   "display_name": "Python 3",
   "language": "python",
   "name": "python3"
  },
  "language_info": {
   "codemirror_mode": {
    "name": "ipython",
    "version": 3
   },
   "file_extension": ".py",
   "mimetype": "text/x-python",
   "name": "python",
   "nbconvert_exporter": "python",
   "pygments_lexer": "ipython3",
   "version": "3.10.6"
  },
  "orig_nbformat": 4
 },
 "nbformat": 4,
 "nbformat_minor": 2
}
